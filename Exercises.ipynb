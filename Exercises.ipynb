{
 "cells": [
  {
   "cell_type": "code",
   "execution_count": 49,
   "id": "e5db9e67",
   "metadata": {},
   "outputs": [],
   "source": [
    "#converts a number to a given base\n",
    "def baseYconvert(number, base):\n",
    "    \n",
    "    # get quotient of division\n",
    "    quot = number // base\n",
    "    \n",
    "    # get rest of division\n",
    "    rest = number % base\n",
    "    \n",
    "    # update result reversely\n",
    "    try:\n",
    "        result = [rest] + result\n",
    "    except NameError:\n",
    "        result = [rest]\n",
    "        \n",
    "    # check wether quot is greater or equal to base, otherwise, implement recursively\n",
    "    if (quot >= base):\n",
    "        return baseYconvert(quot, base) + result\n",
    "    else:\n",
    "        return [quot] + result"
   ]
  },
  {
   "cell_type": "code",
   "execution_count": 74,
   "id": "4cfa8ec0",
   "metadata": {},
   "outputs": [],
   "source": [
    "def yieldAllCombos(items):\n",
    "    \"\"\"\n",
    "        Generates all combinations of N items into two bags, whereby each \n",
    "        item is in one or zero bags.\n",
    "\n",
    "        Yields a tuple, (bag1, bag2), where each bag is represented as a list \n",
    "        of which item(s) are in each bag.\n",
    "    \"\"\"\n",
    "    \n",
    "    def baseYconvert(number, base):\n",
    "    \n",
    "        # get quotient of division\n",
    "        quot = number // base\n",
    "    \n",
    "        # get rest of division\n",
    "        rest = number % base\n",
    "        \n",
    "        # update result reversely\n",
    "        try:\n",
    "            result = [rest] + result\n",
    "        except NameError:\n",
    "            result = [rest]\n",
    "        \n",
    "        # check wether quot is greater or equal to base, otherwise, implement recursively\n",
    "        if (quot >= base):\n",
    "            return baseYconvert(quot, base) + result\n",
    "        else:\n",
    "            return [quot] + result\n",
    "    \n",
    "    ## main\n",
    "    \n",
    "    # get number of items\n",
    "    N = len(items)\n",
    "    \n",
    "    result = []\n",
    "    \n",
    "    for i in range(3**N):\n",
    "        \n",
    "        # get a specific configuration\n",
    "        arrange = (N - len(baseYconvert(i, 3)))*[0] + baseYconvert(i, 3)\n",
    "        \n",
    "        # initialize bag1 and bag2\n",
    "        bag1 = []\n",
    "        bag2 = []\n",
    "        \n",
    "        for n in range(N):\n",
    "            \n",
    "            # sort to the respective barg\n",
    "            if(arrange[n] == 1):\n",
    "                bag1.append(items[n])\n",
    "            elif(arrange[n] == 2):\n",
    "                bag2.append(items[n])\n",
    "                \n",
    "        yield (bag1, bag2)\n",
    "        "
   ]
  },
  {
   "cell_type": "code",
   "execution_count": 1,
   "id": "97dbcaab",
   "metadata": {},
   "outputs": [
    {
     "data": {
      "text/plain": [
       "32"
      ]
     },
     "execution_count": 1,
     "metadata": {},
     "output_type": "execute_result"
    }
   ],
   "source": [
    "## return random even number between 0 and 100 (excluding 100)\n",
    "import random\n",
    "\n",
    "random.randrange(0,49)*2"
   ]
  },
  {
   "cell_type": "code",
   "execution_count": null,
   "id": "08ca96db",
   "metadata": {},
   "outputs": [],
   "source": []
  }
 ],
 "metadata": {
  "kernelspec": {
   "display_name": "Python 3",
   "language": "python",
   "name": "python3"
  },
  "language_info": {
   "codemirror_mode": {
    "name": "ipython",
    "version": 3
   },
   "file_extension": ".py",
   "mimetype": "text/x-python",
   "name": "python",
   "nbconvert_exporter": "python",
   "pygments_lexer": "ipython3",
   "version": "3.8.8"
  }
 },
 "nbformat": 4,
 "nbformat_minor": 5
}

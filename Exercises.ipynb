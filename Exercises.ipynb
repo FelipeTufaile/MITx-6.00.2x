{
 "cells": [
  {
   "cell_type": "markdown",
   "id": "3eb2320b",
   "metadata": {},
   "source": [
    "Convert to Number to a given Base"
   ]
  },
  {
   "cell_type": "code",
   "execution_count": 49,
   "id": "e5db9e67",
   "metadata": {},
   "outputs": [],
   "source": [
    "#converts a number to a given base\n",
    "def baseYconvert(number, base):\n",
    "    \n",
    "    # get quotient of division\n",
    "    quot = number // base\n",
    "    \n",
    "    # get rest of division\n",
    "    rest = number % base\n",
    "    \n",
    "    # update result reversely\n",
    "    try:\n",
    "        result = [rest] + result\n",
    "    except NameError:\n",
    "        result = [rest]\n",
    "        \n",
    "    # check wether quot is greater or equal to base, otherwise, implement recursively\n",
    "    if (quot >= base):\n",
    "        return baseYconvert(quot, base) + result\n",
    "    else:\n",
    "        return [quot] + result"
   ]
  },
  {
   "cell_type": "markdown",
   "id": "a30b8996",
   "metadata": {},
   "source": [
    "Knapsack Problems"
   ]
  },
  {
   "cell_type": "code",
   "execution_count": 74,
   "id": "4cfa8ec0",
   "metadata": {},
   "outputs": [],
   "source": [
    "def yieldAllCombos(items):\n",
    "    \"\"\"\n",
    "        Generates all combinations of N items into two bags, whereby each \n",
    "        item is in one or zero bags.\n",
    "\n",
    "        Yields a tuple, (bag1, bag2), where each bag is represented as a list \n",
    "        of which item(s) are in each bag.\n",
    "    \"\"\"\n",
    "    \n",
    "    def baseYconvert(number, base):\n",
    "    \n",
    "        # get quotient of division\n",
    "        quot = number // base\n",
    "    \n",
    "        # get rest of division\n",
    "        rest = number % base\n",
    "        \n",
    "        # update result reversely\n",
    "        try:\n",
    "            result = [rest] + result\n",
    "        except NameError:\n",
    "            result = [rest]\n",
    "        \n",
    "        # check wether quot is greater or equal to base, otherwise, implement recursively\n",
    "        if (quot >= base):\n",
    "            return baseYconvert(quot, base) + result\n",
    "        else:\n",
    "            return [quot] + result\n",
    "    \n",
    "    ## main\n",
    "    \n",
    "    # get number of items\n",
    "    N = len(items)\n",
    "    \n",
    "    result = []\n",
    "    \n",
    "    for i in range(3**N):\n",
    "        \n",
    "        # get a specific configuration\n",
    "        arrange = (N - len(baseYconvert(i, 3)))*[0] + baseYconvert(i, 3)\n",
    "        \n",
    "        # initialize bag1 and bag2\n",
    "        bag1 = []\n",
    "        bag2 = []\n",
    "        \n",
    "        for n in range(N):\n",
    "            \n",
    "            # sort to the respective barg\n",
    "            if(arrange[n] == 1):\n",
    "                bag1.append(items[n])\n",
    "            elif(arrange[n] == 2):\n",
    "                bag2.append(items[n])\n",
    "                \n",
    "        yield (bag1, bag2)\n",
    "        "
   ]
  },
  {
   "cell_type": "markdown",
   "id": "6e65ca8c",
   "metadata": {},
   "source": [
    "Stochastic vs Deterministic"
   ]
  },
  {
   "cell_type": "code",
   "execution_count": 35,
   "id": "047bbf7e",
   "metadata": {},
   "outputs": [],
   "source": [
    "import random\n",
    "        \n",
    "def F():\n",
    "    mylist = []\n",
    "    r = 1\n",
    "\n",
    "    if random.random() > 0.99:\n",
    "        r = random.randint(1, 10)\n",
    "    for i in range(r):\n",
    "        random.seed(0)\n",
    "        if random.randint(1, 10) > 3:\n",
    "            number = random.randint(1, 10)\n",
    "            if number not in mylist:\n",
    "                mylist.append(number)\n",
    "    print(mylist)\n",
    "\n",
    "def G():  \n",
    "    random.seed(0)\n",
    "    mylist = []\n",
    "    r = 1\n",
    "\n",
    "    if random.random() > 0.99:\n",
    "        r = random.randint(1, 10)\n",
    "    for i in range(r):\n",
    "        if random.randint(1, 10) > 3:\n",
    "            number = random.randint(1, 10)\n",
    "            mylist.append(number)\n",
    "            print(mylist)"
   ]
  },
  {
   "cell_type": "code",
   "execution_count": 48,
   "id": "82b7a05e",
   "metadata": {},
   "outputs": [
    {
     "name": "stdout",
     "output_type": "stream",
     "text": [
      "[7]\n"
     ]
    }
   ],
   "source": [
    "import random\n",
    "mylist = []\n",
    "\n",
    "for i in range(random.randint(1, 10)):\n",
    "    random.seed(0)\n",
    "    if random.randint(1, 10) > 3:\n",
    "        number = random.randint(1, 10)\n",
    "        mylist.append(number)\n",
    "print(mylist)"
   ]
  },
  {
   "cell_type": "markdown",
   "id": "0b746514",
   "metadata": {},
   "source": [
    "Search Algorithms"
   ]
  },
  {
   "cell_type": "code",
   "execution_count": 62,
   "id": "11094e4e",
   "metadata": {},
   "outputs": [],
   "source": [
    "def greedySum(L, s):\n",
    "    \"\"\" input: s, positive integer, what the sum should add up to\n",
    "               L, list of unique positive integers sorted in descending order\n",
    "        Use the greedy approach where you find the largest multiplier for \n",
    "        the largest value in L then for the second largest, and so on to \n",
    "        solve the equation s = L[0]*m_0 + L[1]*m_1 + ... + L[n-1]*m_(n-1)\n",
    "        return: the sum of the multipliers or \"no solution\" if greedy approach does \n",
    "                not yield a set of multipliers such that the equation sums to 's'\n",
    "    \"\"\"\n",
    "    # dynamic sum\n",
    "    acc = s\n",
    "\n",
    "    # define multipliers\n",
    "    multipliers = []\n",
    "\n",
    "    for l in L:\n",
    "\n",
    "        m = acc // l\n",
    "        \n",
    "        acc = acc % l\n",
    "\n",
    "        multipliers.append(m)\n",
    "\n",
    "    if(acc == 0):\n",
    "        return sum(multipliers)\n",
    "    else:\n",
    "        return \"no solution\""
   ]
  },
  {
   "cell_type": "markdown",
   "id": "ebc33785",
   "metadata": {},
   "source": [
    "Graphs | Find Paths"
   ]
  },
  {
   "cell_type": "code",
   "execution_count": 75,
   "id": "aca7836a",
   "metadata": {},
   "outputs": [],
   "source": [
    "import random\n",
    "  \n",
    "# You are given this function - do not modify\n",
    "def createRandomGraph():\n",
    "    \"\"\"Creates a digraph with 7 randomly chosen integer nodes from 0 to 9 and\n",
    "    randomly chosen directed edges (between 10 and 20 edges)\n",
    "    \"\"\"\n",
    "    g = {}\n",
    "    n = random.sample([0,1,2,3,4,5,6,7,8,9], 7)\n",
    "    for i in n:\n",
    "        g[i] = []\n",
    "    edges = random.randint(10,20)\n",
    "    count = 0\n",
    "    while count < edges:\n",
    "        a = random.choice(n)\n",
    "        b = random.choice(n)\n",
    "        if b not in g[a] and a != b:\n",
    "            g[a].append(b)\n",
    "            count += 1\n",
    "    return g\n",
    "\n",
    "# You are given this function - do not modify\n",
    "def findPath(g, start, end, path=[]):\n",
    "    \"\"\" Uses DFS to find a path between a start and an end node in g.\n",
    "    If no path is found, returns None. If a path is found, returns the\n",
    "    list of nodes \"\"\"\n",
    "    path = path + [start]\n",
    "    if start == end:\n",
    "        return path\n",
    "    if not start in g:\n",
    "        return None\n",
    "    for node in g[start]:\n",
    "        if node not in path:\n",
    "            newpath = findPath(g, node, end, path)\n",
    "            if newpath: return newpath\n",
    "    return None\n",
    "                \n",
    "#########################        \n",
    "## WRITE THIS FUNCTION ##\n",
    "#########################        \n",
    "\n",
    "def allReachable(g, n):\n",
    "    \"\"\"\n",
    "    Assumes g is a directed graph and n a node in g.\n",
    "    Returns a sorted list (increasing by node number) containing all \n",
    "    nodes m such that there is a path from n to m in g. \n",
    "    Does not include the node itself.\n",
    "    \"\"\"\n",
    "    nodes = []\n",
    "    for node in g:\n",
    "\n",
    "        if(findPath(g, n, node, path=[]) == None):\n",
    "            continue\n",
    "        else:\n",
    "            nodes.append(node)\n",
    "\n",
    "    if(n in nodes):\n",
    "        nodes.remove(n)\n",
    "\n",
    "    return sorted(nodes)\n",
    "\n"
   ]
  },
  {
   "cell_type": "code",
   "execution_count": 65,
   "id": "e74535d3",
   "metadata": {},
   "outputs": [],
   "source": [
    "g = createRandomGraph()"
   ]
  },
  {
   "cell_type": "code",
   "execution_count": 69,
   "id": "1a59cda9",
   "metadata": {},
   "outputs": [
    {
     "data": {
      "text/plain": [
       "[4, 2, 6, 7, 0, 5]"
      ]
     },
     "execution_count": 69,
     "metadata": {},
     "output_type": "execute_result"
    }
   ],
   "source": [
    "findPath(g, 4, 5, path=[])"
   ]
  },
  {
   "cell_type": "markdown",
   "id": "1e5013a9",
   "metadata": {},
   "source": [
    "Random Walks | Drunks Codes"
   ]
  },
  {
   "cell_type": "code",
   "execution_count": 77,
   "id": "83d89755",
   "metadata": {},
   "outputs": [],
   "source": [
    "import pylab\n",
    "\n",
    "class Location(object):\n",
    "    def __init__(self, x, y):\n",
    "        \"\"\"x and y are floats\"\"\"\n",
    "        self.x = x\n",
    "        self.y = y\n",
    "        \n",
    "    def move(self, deltaX, deltaY):\n",
    "        \"\"\"deltaX and deltaY are floats\"\"\"\n",
    "        return Location(self.x + deltaX, self.y + deltaY)\n",
    "    \n",
    "    def getX(self):\n",
    "        return self.x\n",
    "    \n",
    "    def getY(self):\n",
    "        return self.y\n",
    "    \n",
    "    def distFrom(self, other):\n",
    "        ox = other.x\n",
    "        oy = other.y\n",
    "        xDist = self.x - ox\n",
    "        yDist = self.y - oy\n",
    "        return (xDist**2 + yDist**2)**0.5\n",
    "    \n",
    "    def __str__(self):\n",
    "        return '<' + str(self.x) + ', ' + str(self.y) + '>'\n",
    "\n",
    "class Field(object):\n",
    "    def __init__(self):\n",
    "        self.drunks = {}\n",
    "        \n",
    "    def addDrunk(self, drunk, loc):\n",
    "        if drunk in self.drunks:\n",
    "            raise ValueError('Duplicate drunk')\n",
    "        else:\n",
    "            self.drunks[drunk] = loc\n",
    "            \n",
    "    def moveDrunk(self, drunk):\n",
    "        if not drunk in self.drunks:\n",
    "            raise ValueError('Drunk not in field')\n",
    "        xDist, yDist = drunk.takeStep()\n",
    "        currentLocation = self.drunks[drunk]\n",
    "        #use move method of Location to get new location\n",
    "        self.drunks[drunk] = currentLocation.move(xDist, yDist)\n",
    "        \n",
    "    def getLoc(self, drunk):\n",
    "        if not drunk in self.drunks:\n",
    "            raise ValueError('Drunk not in field')\n",
    "        return self.drunks[drunk]\n",
    "\n",
    "import random\n",
    "\n",
    "class Drunk(object):\n",
    "    def __init__(self, name):\n",
    "        self.name = name\n",
    "    def __str__(self):\n",
    "        return 'This drunk is named ' + self.name\n",
    "\n",
    "class UsualDrunk(Drunk):\n",
    "    def takeStep(self):\n",
    "        stepChoices =\\\n",
    "            [(0.0,1.0), (0.0,-1.0), (1.0, 0.0), (-1.0, 0.0)]\n",
    "        return random.choice(stepChoices)\n",
    "\n",
    "class ColdDrunk(Drunk):\n",
    "    def takeStep(self):\n",
    "        stepChoices =\\\n",
    "            [(0.0,0.9), (0.0,-1.03), (1.03, 0.0), (-1.03, 0.0)]\n",
    "        return random.choice(stepChoices)\n",
    "\n",
    "class EDrunk(Drunk):\n",
    "    def takeStep(self):\n",
    "        ang = 2 * math.pi * random.random()\n",
    "        length = 0.5 + 0.5 * random.random()\n",
    "        return (length * math.sin(ang), length * math.cos(ang))\n",
    "\n",
    "class PhotoDrunk(Drunk):\n",
    "    def takeStep(self):\n",
    "        stepChoices =\\\n",
    "                    [(0.0, 0.5),(0.0, -0.5),\n",
    "                     (1.5, 0.0),(-1.5, 0.0)]\n",
    "        return random.choice(stepChoices)\n",
    "\n",
    "class DDrunk(Drunk):\n",
    "    def takeStep(self):\n",
    "        stepChoices =\\\n",
    "                    [(0.85, 0.85), (-0.85, -0.85),\n",
    "                     (-0.56, 0.56), (0.56, -0.56)] \n",
    "        return random.choice(stepChoices)\n",
    "\n",
    "def walkVector(f, d, numSteps):\n",
    "    start = f.getLoc(d)\n",
    "    for s in range(numSteps):\n",
    "        f.moveDrunk(d)\n",
    "    return(f.getLoc(d).getX() - start.getX(),\n",
    "           f.getLoc(d).getY() - start.getY())"
   ]
  },
  {
   "cell_type": "code",
   "execution_count": 107,
   "id": "855283e9",
   "metadata": {},
   "outputs": [
    {
     "data": {
      "image/png": "[encoded data removed]",
      "text/plain": [
       "<Figure size 1152x1152 with 1 Axes>"
      ]
     },
     "metadata": {},
     "output_type": "display_data"
    }
   ],
   "source": [
    "import pandas as pd\n",
    "# Plotting\n",
    "import seaborn as sns\n",
    "import matplotlib.pyplot as plt\n",
    "\n",
    "dd = Drunk('Homer')\n",
    "simdd = UsualDrunk(dd)\n",
    "#simdd = UsualDrunk(dd)\n",
    "#simdd = ColdDrunk(dd)\n",
    "#simdd = PhotoDrunk(dd)\n",
    "#simdd = EDrunk(dd)\n",
    "#simdd = DDrunk(dd)\n",
    "\n",
    "loc = Location(0,0)\n",
    "\n",
    "field = Field()\n",
    "\n",
    "field.addDrunk(simdd, loc)\n",
    "\n",
    "lines = []\n",
    "for i in range(1000):\n",
    "    lines.append(walkVector(f=field, d=simdd, numSteps=1000))\n",
    "\n",
    "result = pd.DataFrame(lines, columns = ['x_dist', 'y_dist'])\n",
    "\n",
    "## GRAPH\n",
    "\n",
    "plt.figure(figsize = (16,16))\n",
    "sns.set_theme(style=\"whitegrid\")\n",
    "\n",
    "fg01 = sns.scatterplot(data = result,\n",
    "                       x = 'x_dist', \n",
    "                       y = 'y_dist')\n",
    "\n",
    "plt.ylim(-100, 100)\n",
    "plt.xlim(-100, 100)\n",
    "                                                                                     \n",
    "plt.show(fg01)\n"
   ]
  },
  {
   "cell_type": "markdown",
   "id": "ebc46671",
   "metadata": {},
   "source": [
    "Standard Deviation"
   ]
  },
  {
   "cell_type": "code",
   "execution_count": 113,
   "id": "7a9cafd6",
   "metadata": {},
   "outputs": [],
   "source": [
    "def stdDevOfLengths(L):\n",
    "    \"\"\"\n",
    "    L: a list of strings\n",
    "\n",
    "    returns: float, the standard deviation of the lengths of the strings,\n",
    "      or NaN if L is empty.\n",
    "    \"\"\"\n",
    "\n",
    "    if(len(L) == 0):\n",
    "        return float('NaN')\n",
    "\n",
    "    lstr = []\n",
    "    for l in L:\n",
    "        lstr.append(len(l))\n",
    "\n",
    "    m = sum(lstr) / len(lstr)\n",
    "\n",
    "    tot = 0\n",
    "    for j in lstr:\n",
    "\n",
    "        tot += (m-j)**2\n",
    "\n",
    "    std = (tot / len(lstr))**0.5\n",
    "\n",
    "    return std   \n"
   ]
  },
  {
   "cell_type": "code",
   "execution_count": 114,
   "id": "3cc73422",
   "metadata": {},
   "outputs": [
    {
     "data": {
      "text/plain": [
       "1.8708286933869707"
      ]
     },
     "execution_count": 114,
     "metadata": {},
     "output_type": "execute_result"
    }
   ],
   "source": [
    "stdDevOfLengths(['apples', 'oranges', 'kiwis', 'pineapples'])"
   ]
  },
  {
   "cell_type": "code",
   "execution_count": 115,
   "id": "f20d079e",
   "metadata": {},
   "outputs": [
    {
     "data": {
      "text/plain": [
       "0.0"
      ]
     },
     "execution_count": 115,
     "metadata": {},
     "output_type": "execute_result"
    }
   ],
   "source": [
    "stdDevOfLengths(['a', 'z', 'p'])"
   ]
  },
  {
   "cell_type": "code",
   "execution_count": 21,
   "id": "2399bcb4",
   "metadata": {},
   "outputs": [],
   "source": [
    "def noReplacementSimulation(numTrials):\n",
    "    '''\n",
    "    Runs numTrials trials of a Monte Carlo simulation\n",
    "    of drawing 3 balls out of a bucket containing\n",
    "    3 red and 3 green balls. Balls are not replaced once\n",
    "    drawn. Returns the a decimal - the fraction of times 3 \n",
    "    balls of the same color were drawn.\n",
    "    '''\n",
    "\n",
    "    import random\n",
    "    \n",
    "    trials = []\n",
    "    for nn in range(numTrials):\n",
    "        bucket = [0, 0, 0, 1, 1, 1]\n",
    "        res = []\n",
    "        for n in range(3):\n",
    "            pos = random.randint(0,5-n)\n",
    "            res.append(bucket[pos])\n",
    "            bucket.pop(pos)\n",
    "\n",
    "        if((sum(res) == 3) | (sum(res) == 0)):\n",
    "            trials.append(1)\n",
    "        else:\n",
    "            trials.append(0)\n",
    "\n",
    "    return sum(trials) / numTrials\n"
   ]
  },
  {
   "cell_type": "code",
   "execution_count": 22,
   "id": "c04d84b9",
   "metadata": {},
   "outputs": [],
   "source": [
    "numTrials = [1,5,10,50,100,500,1000,5000,10000,50000,100000]\n",
    "percents = []\n",
    "for nt in numTrials:\n",
    "    percents.append(noReplacementSimulation(nt))"
   ]
  },
  {
   "cell_type": "code",
   "execution_count": 24,
   "id": "21746877",
   "metadata": {},
   "outputs": [
    {
     "data": {
      "text/plain": [
       "11"
      ]
     },
     "execution_count": 24,
     "metadata": {},
     "output_type": "execute_result"
    }
   ],
   "source": [
    "len(percents)"
   ]
  },
  {
   "cell_type": "code",
   "execution_count": 26,
   "id": "fbe8ad5b",
   "metadata": {},
   "outputs": [
    {
     "data": {
      "image/png": "[encoded data removed]",
      "text/plain": [
       "<Figure size 1152x1152 with 1 Axes>"
      ]
     },
     "metadata": {},
     "output_type": "display_data"
    }
   ],
   "source": [
    "import pandas as pd\n",
    "# Plotting\n",
    "import seaborn as sns\n",
    "import matplotlib.pyplot as plt\n",
    "\n",
    "\n",
    "plt.figure(figsize = (16,16))\n",
    "sns.set_theme(style=\"whitegrid\")\n",
    "\n",
    "fg01 = sns.scatterplot(x = numTrials, \n",
    "                       y = percents)\n",
    "\n",
    "plt.ylim(0, 0.4)\n",
    "plt.xlim(1, 100000)\n",
    "                                                                                     \n",
    "plt.show(fg01)"
   ]
  }
 ],
 "metadata": {
  "kernelspec": {
   "display_name": "Python 3",
   "language": "python",
   "name": "python3"
  },
  "language_info": {
   "codemirror_mode": {
    "name": "ipython",
    "version": 3
   },
   "file_extension": ".py",
   "mimetype": "text/x-python",
   "name": "python",
   "nbconvert_exporter": "python",
   "pygments_lexer": "ipython3",
   "version": "3.8.8"
  }
 },
 "nbformat": 4,
 "nbformat_minor": 5
}
